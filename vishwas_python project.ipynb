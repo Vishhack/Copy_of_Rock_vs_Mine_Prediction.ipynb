{
  "nbformat": 4,
  "nbformat_minor": 0,
  "metadata": {
    "colab": {
      "provenance": [],
      "authorship_tag": "ABX9TyNnH7ExRRuBuDY/uOQTAkWF",
      "include_colab_link": true
    },
    "kernelspec": {
      "name": "python3",
      "display_name": "Python 3"
    },
    "language_info": {
      "name": "python"
    }
  },
  "cells": [
    {
      "cell_type": "markdown",
      "metadata": {
        "id": "view-in-github",
        "colab_type": "text"
      },
      "source": [
        "<a href=\"https://colab.research.google.com/github/Vishhack/Copy_of_Rock_vs_Mine_Prediction.ipynb/blob/main/vishwas_python%20project.ipynb\" target=\"_parent\"><img src=\"https://colab.research.google.com/assets/colab-badge.svg\" alt=\"Open In Colab\"/></a>"
      ]
    },
    {
      "cell_type": "markdown",
      "source": [
        "** 1. You are working in a bank, and you have been given two lists of the employees who worked in 2021. Employees’ names in list 1 are Ramesh, Suresh, Mahesh, Ali, Jacob, and Saritha. List 2 contains the names of Ali, Mukesh, Mahesh, Jacob, Sai, and Sarita. Please write a program that helps to identify people who are common in both lists. Please do not use any in-built function**"
      ],
      "metadata": {
        "id": "Z7PKfrPYnK1L"
      }
    },
    {
      "cell_type": "code",
      "source": [
        "list_1 = [\"Ramesh\",\"Suresh\",\"Mahesh\",\"Ali\",\"Jacob\",\"Saritha\"]"
      ],
      "metadata": {
        "id": "2jPSFtV4nKfn"
      },
      "execution_count": 2,
      "outputs": []
    },
    {
      "cell_type": "code",
      "execution_count": 1,
      "metadata": {
        "id": "CfkGgvNSnJ0q"
      },
      "outputs": [],
      "source": [
        "list_2 = [\"Ali\",\"Mukesh\",\"Mahesh\",\"Jacob\",\"Sai\",\"Sarita\"]"
      ]
    },
    {
      "cell_type": "code",
      "source": [
        "for item in list_1:\n",
        "  if item in list_2:\n",
        "    print(\"intersection items is :\",item)"
      ],
      "metadata": {
        "colab": {
          "base_uri": "https://localhost:8080/"
        },
        "id": "fCFrrYkwoFv1",
        "outputId": "539ed127-f469-4f6d-fa5a-5c9c61353628"
      },
      "execution_count": 19,
      "outputs": [
        {
          "output_type": "stream",
          "name": "stdout",
          "text": [
            "intersection items is : Mahesh\n",
            "intersection items is : Ali\n",
            "intersection items is : Jacob\n"
          ]
        }
      ]
    },
    {
      "cell_type": "markdown",
      "source": [
        "2. While entering data, someone entered a few names as a common string “Ramesh Suresh Mohit”. Please write a program which separates all the names and converts them into a list. Once converted into a list, please write a program that adds their age.\n",
        "\n",
        "Ramesh:  25\n",
        "\n",
        "Suresh: 22\n",
        "\n",
        "Mohit: 26"
      ],
      "metadata": {
        "id": "5sD1Lob5p-2p"
      }
    },
    {
      "cell_type": "code",
      "source": [
        "# Input data as a common string\n",
        "names = \"Ramesh Suresh Mohit\"\n",
        "\n",
        "# Separate the names and create a list\n",
        "names_li = names.split()\n",
        "\n",
        "# Initialize a dictionary to store the age of each person\n",
        "ages = {\"Ramesh\": 25, \"Suresh\": 22, \"Mohit\": 26}\n",
        "\n",
        "# Initialize a variable to store the total age\n",
        "total_age = 0\n",
        "\n",
        "# Loop through the names and add their ages\n",
        "for name in names_li:\n",
        "    total_age += ages[name]\n",
        "\n",
        "# Print the total age\n",
        "print(\"Total age:\", total_age)"
      ],
      "metadata": {
        "colab": {
          "base_uri": "https://localhost:8080/"
        },
        "id": "FTGfzc0yoQyv",
        "outputId": "3ac1bf18-f247-4a23-e65b-3cd67266bbfc"
      },
      "execution_count": 49,
      "outputs": [
        {
          "output_type": "stream",
          "name": "stdout",
          "text": [
            "Total age: 73\n"
          ]
        }
      ]
    },
    {
      "cell_type": "markdown",
      "source": [
        " You are working in a medical store. A patient came to your medical store and asked to buy 2 strips of paracetamol, 3 strips of azithromycin, and 5 strips of Vitamin C. One strip of paracetamol costs Rs 35, one strip of azithromycin costs Rs 49, and one strip of vitamin c costs Rs. 33. Patient gave you Rs 2000. Please tell us what is the total cost of each medicine, the total cost of all medicine, and how much money you refunded to the patient.  \n",
        "\n"
      ],
      "metadata": {
        "id": "ZSMJWIUcxyRD"
      }
    },
    {
      "cell_type": "code",
      "source": [
        "# cost of each medicine\n",
        "paracetamol_cost = 35\n",
        "azithromycin_cost = 49\n",
        "vitamin_c_cost = 33\n",
        "\n",
        "# quantity of each medicine required\n",
        "paracetamol_qty = 2\n",
        "azithromycin_qty = 3\n",
        "vitamin_c_qty = 5\n",
        "\n",
        "# calculate total cost of each medicine\n",
        "total_paracetamol_cost = paracetamol_cost * paracetamol_qty\n",
        "total_azithromycin_cost = azithromycin_cost * azithromycin_qty\n",
        "total_vitamin_c_cost = vitamin_c_cost * vitamin_c_qty\n",
        "\n",
        "# calculate total cost of all medicine\n",
        "total_cost = total_paracetamol_cost + total_azithromycin_cost + total_vitamin_c_cost\n",
        "\n",
        "# calculate refund amount\n",
        "refund = 2000 - total_cost\n",
        "\n",
        "# print the results\n",
        "print(\"Total cost of paracetamol: Rs\", total_paracetamol_cost)\n",
        "print(\"Total cost of azithromycin: Rs\", total_azithromycin_cost)\n",
        "print(\"Total cost of vitamin C: Rs\", total_vitamin_c_cost)\n",
        "print(\"Total cost of all medicine: Rs\", total_cost)\n",
        "print(\"Refund amount: Rs\", refund)\n"
      ],
      "metadata": {
        "colab": {
          "base_uri": "https://localhost:8080/"
        },
        "id": "TA78yly0qSxl",
        "outputId": "73957d8e-c343-4843-c6ea-687a8ae479ae"
      },
      "execution_count": 50,
      "outputs": [
        {
          "output_type": "stream",
          "name": "stdout",
          "text": [
            "Total cost of paracetamol: Rs 70\n",
            "Total cost of azithromycin: Rs 147\n",
            "Total cost of vitamin C: Rs 165\n",
            "Total cost of all medicine: Rs 382\n",
            "Refund amount: Rs 1618\n"
          ]
        }
      ]
    },
    {
      "cell_type": "markdown",
      "source": [
        "4. Accept a sentence as input and find the number of vowels in it. Assume that the sentence has no punctuation marks. For example, I am learning python contains 6 vowels. This function should be applicable for all other different sentences."
      ],
      "metadata": {
        "id": "A-ZRMaG5ya7P"
      }
    },
    {
      "cell_type": "code",
      "source": [
        "sentence = input(\"Enter a sentence: \")\n",
        "vowels = \"aeiouAEIOU\"\n",
        "count = 0\n",
        "\n",
        "for charec in sentence:\n",
        "    if charec in vowels:\n",
        "        count += 1\n",
        "\n",
        "print(\"Number of vowels in the sentence:\", count)\n"
      ],
      "metadata": {
        "colab": {
          "base_uri": "https://localhost:8080/"
        },
        "id": "gY4wL_RhyZHk",
        "outputId": "d154b117-fd69-4951-e1f9-b6721afe5ed5"
      },
      "execution_count": 51,
      "outputs": [
        {
          "output_type": "stream",
          "name": "stdout",
          "text": [
            "Enter a sentence: vishwas\n",
            "Number of vowels in the sentence: 2\n"
          ]
        }
      ]
    },
    {
      "cell_type": "markdown",
      "source": [
        "5. you have been appointed by the election commission to create a website. Your first task is to work on a program which tells candidates if they are eligible for voting or not. If they are eligible, your output should be ‘Congrats! You are eligible’; otherwise, it should tell that you have to return after X number of years. The eligibility criteria for voting is 18 years."
      ],
      "metadata": {
        "id": "l85l-KPUyx74"
      }
    },
    {
      "cell_type": "code",
      "source": [
        "age = int(input(\"Enter your age: \"))\n",
        "\n",
        "if age >= 18:\n",
        "    print(\"Congrats! You are eligible to vote.\")\n",
        "else:\n",
        "    years_left = 18 - age\n",
        "    print(\"Sorry, you are not eligible to vote. Please come back after\", years_left, \"years.\")"
      ],
      "metadata": {
        "colab": {
          "base_uri": "https://localhost:8080/"
        },
        "id": "mnUQPNl7yvjE",
        "outputId": "86373639-a457-4ff1-d65a-a507fcb77549"
      },
      "execution_count": 52,
      "outputs": [
        {
          "output_type": "stream",
          "name": "stdout",
          "text": [
            "Enter your age: 12\n",
            "Sorry, you are not eligible to vote. Please come back after 6 years.\n"
          ]
        }
      ]
    },
    {
      "cell_type": "markdown",
      "source": [
        "6. Longest Increasing Subsequence\n",
        "\n",
        "Given an unsorted array of integers, find the length of the longest increasing subsequence (LIS)."
      ],
      "metadata": {
        "id": "xlTL27bFzNTu"
      }
    },
    {
      "cell_type": "code",
      "source": [
        "def longest_increasing_subsequence(nums):\n",
        "    n = len(nums)\n",
        "    dp = [1] * n\n",
        "\n",
        "    for i in range(1, n):\n",
        "        for j in range(i):\n",
        "            if nums[j] < nums[i]:\n",
        "                dp[i] = max(dp[i], dp[j] + 1)\n",
        "\n",
        "    return max(dp)"
      ],
      "metadata": {
        "id": "21oRuy3UzKEv"
      },
      "execution_count": null,
      "outputs": []
    }
  ]
}